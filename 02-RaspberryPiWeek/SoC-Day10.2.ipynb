{
 "cells": [
  {
   "cell_type": "markdown",
   "metadata": {},
   "source": [
    "# SoC Day 10.2\n",
    "\n",
    "Some of needed libraryes: install them using pip3 if needed. This RPi-Python document is intended for Python3 **only**\n",
    "\n",
    "document version 0.1a"
   ]
  },
  {
   "cell_type": "code",
   "execution_count": null,
   "metadata": {},
   "outputs": [],
   "source": [
    "import time # to handle some time tasks\n",
    "# import RPi.GPIO as GPIO\n",
    "import gpiozero\n",
    "\n",
    "\n",
    "import RPi.GPIO as GPIO # well that's too old for me..."
   ]
  },
  {
   "cell_type": "markdown",
   "metadata": {},
   "source": [
    "the PIN number you should be looking at is one OUTSIDE the circle on given scheme.\n",
    "\n",
    "**DO NOT** connect **ANY** external device to 5V, 3.3V, Ground pins directly before wiring check. Ask the assistant to help you if you are unsure in pin numbering. \n",
    "\n",
    "TODO: add scheme picture\n",
    "\n",
    "\n",
    "## LED:"
   ]
  },
  {
   "cell_type": "code",
   "execution_count": null,
   "metadata": {},
   "outputs": [],
   "source": [
    "my_first_led = gpiozero.LED(21) # pin configuration argument"
   ]
  },
  {
   "cell_type": "code",
   "execution_count": null,
   "metadata": {},
   "outputs": [],
   "source": [
    "my_first_led.on()"
   ]
  },
  {
   "cell_type": "code",
   "execution_count": null,
   "metadata": {},
   "outputs": [],
   "source": [
    "my_first_led.off()"
   ]
  },
  {
   "cell_type": "code",
   "execution_count": null,
   "metadata": {},
   "outputs": [],
   "source": [
    "dir(my_first_led)"
   ]
  },
  {
   "cell_type": "code",
   "execution_count": null,
   "metadata": {},
   "outputs": [],
   "source": [
    "# find blink function, get it's help document\n",
    "\n",
    "# relevant methods:\n",
    "\n",
    "# on, off, blink, is_lit, toggle"
   ]
  },
  {
   "cell_type": "markdown",
   "metadata": {},
   "source": [
    "## exercise no. 1:\n",
    "\n",
    "Blik Using 2 LED's. Make it like this:\n",
    "\n",
    "While LED no.1 is on, LED no.2 should be off.\n",
    "While LED no.2 is on, LED no.1 should be off.\n",
    "Make it periodically. Use sleep or blink functions.\n",
    "\n",
    "\n",
    "use these resources:\n",
    "\n",
    "a) two GPIO ports\n",
    "\n",
    "b) a single GPIO port - be careful about what you're doing\n",
    "\n",
    "## exercise no. 2: Traffic Light\n",
    "\n",
    "Make a simple traffic light with 3 LED's (using 3 GPIOs)...\n",
    "\n",
    "\n",
    "\n",
    "\n",
    "\n",
    "\n",
    "\n",
    "\n",
    "\n",
    "\n",
    "## PWMLED:"
   ]
  },
  {
   "cell_type": "code",
   "execution_count": 1,
   "metadata": {},
   "outputs": [],
   "source": [
    "cool_led = gpiozero.PWMLED(21)\n",
    "cool_led.value = 0.0\n",
    "cool_led.value = 0.5\n",
    "cool_led.value = 1.0\n",
    "\n",
    "# arguments:\n",
    "\n",
    "# value\n",
    "# pulse(fade_in_time, fade_out_time, n=None, background)\n",
    "# blink(on_time, off_time, fade_in_time, fade_out_time, n=None, background)\n"
   ]
  },
  {
   "cell_type": "markdown",
   "metadata": {},
   "source": [
    "## Button"
   ]
  },
  {
   "cell_type": "code",
   "execution_count": null,
   "metadata": {},
   "outputs": [],
   "source": [
    "## Button (tipkalo zapravo):\n",
    "\n",
    "# button.pin.pull = 'floating'\n",
    "\n",
    "# read gpiozero.Button documentation using help() function. Connect button to available GPIO pin"
   ]
  },
  {
   "cell_type": "code",
   "execution_count": null,
   "metadata": {},
   "outputs": [],
   "source": [
    "import signal #(pause)\n",
    "\n",
    "button = gpiozero.Button(20)\n",
    "led = gpiozero.LED(21)\n",
    "\n",
    "def toggleLED():\n",
    "    \n",
    "    led.toggle()\n",
    "\n",
    "button.when_pressed = toggleLED\n",
    "signal.pause()\n",
    "    \n",
    "\n",
    "# wait_for_press\n",
    "# wait_for_release\n",
    "# .pin\n",
    "# is_pressed\n",
    "# pressed_time\n",
    "# when_pressed\n",
    "# when_released\n",
    "# close\n",
    "# bounce_time argument\n",
    "# when_held"
   ]
  },
  {
   "cell_type": "markdown",
   "metadata": {},
   "source": [
    "## exercise no. 3: Smart Traffic Light\n",
    "\n",
    "make a semaphore with sensoring - light should stay RED while no cars are on it (no button is pressed). Make it asynchronous (using .when_pressed method)."
   ]
  },
  {
   "cell_type": "markdown",
   "metadata": {},
   "source": [
    "## exercise no. 4: A game (again)\n",
    "\n",
    "Two players, two buttons, two LEDs:\n",
    "\n",
    "after random time, print (to std.out i.e. screen) that game is started. Wait for the first player to press the button. Indicate the winner using LED (first LED for player 1, second LED for player 2)."
   ]
  },
  {
   "cell_type": "code",
   "execution_count": 3,
   "metadata": {},
   "outputs": [],
   "source": [
    "# use random.randint(), exit()...\n",
    "# samo jedna funkcija!"
   ]
  },
  {
   "cell_type": "markdown",
   "metadata": {},
   "source": [
    "## Buzzer"
   ]
  },
  {
   "cell_type": "code",
   "execution_count": null,
   "metadata": {},
   "outputs": [],
   "source": [
    "p = gpiozero.Buzzer(PIN)\n",
    "p.on()\n",
    "p.off()\n",
    "p.toggle()\n",
    "beep(on_time=1, off_time=1, n=None, background=True)"
   ]
  },
  {
   "cell_type": "markdown",
   "metadata": {},
   "source": [
    "## Servo:"
   ]
  },
  {
   "cell_type": "code",
   "execution_count": null,
   "metadata": {},
   "outputs": [],
   "source": [
    "s = gpiozero.Servo(PIN)\n",
    "s.min()\n",
    "s.mid()\n",
    "s.max()\n",
    "s.value # -1 to 1"
   ]
  },
  {
   "cell_type": "markdown",
   "metadata": {},
   "source": [
    "## exercise no. 5: HC-SR04\n",
    "\n",
    "just make it work"
   ]
  }
 ],
 "metadata": {
  "kernelspec": {
   "display_name": "Python 3",
   "language": "python",
   "name": "python3"
  },
  "language_info": {
   "codemirror_mode": {
    "name": "ipython",
    "version": 3
   },
   "file_extension": ".py",
   "mimetype": "text/x-python",
   "name": "python",
   "nbconvert_exporter": "python",
   "pygments_lexer": "ipython3",
   "version": "3.6.5"
  }
 },
 "nbformat": 4,
 "nbformat_minor": 2
}
