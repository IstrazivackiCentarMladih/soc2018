{
 "cells": [
  {
   "cell_type": "markdown",
   "metadata": {},
   "source": [
    "# SoC Day 8: Python, Python, Python\n",
    "\n",
    "\n",
    "#### why Python?\n",
    "\n",
    "interpreter, compiler, cross platform script language\n",
    "\n",
    "Raspberry Pi - a perfect pythonic platform example"
   ]
  },
  {
   "cell_type": "markdown",
   "metadata": {},
   "source": [
    "## 1. Sintaksa\n",
    "### komentari:"
   ]
  },
  {
   "cell_type": "code",
   "execution_count": null,
   "metadata": {},
   "outputs": [],
   "source": [
    "#this is a comment\n",
    "#comment could be written like this\n",
    "\n",
    "# but it's really easy to read with leading space"
   ]
  },
  {
   "cell_type": "markdown",
   "metadata": {},
   "source": [
    "### dodjela vrijednosti, definicija varijable:"
   ]
  },
  {
   "cell_type": "code",
   "execution_count": 1,
   "metadata": {},
   "outputs": [],
   "source": [
    "a = 5\n",
    "a = 5 + 7\n",
    "a = 9 + 5"
   ]
  },
  {
   "cell_type": "markdown",
   "metadata": {},
   "source": [
    "### grananje, uvlačenje:"
   ]
  },
  {
   "cell_type": "code",
   "execution_count": 2,
   "metadata": {},
   "outputs": [
    {
     "name": "stdout",
     "output_type": "stream",
     "text": [
      "C anyone?\n",
      "Another ugly oneliner\n"
     ]
    }
   ],
   "source": [
    "if a == 5:\n",
    "    print(\"if you don't need any braces\")\n",
    "    print(\"why do I keep bracing print statement?\")\n",
    "\n",
    "# when does if work?\n",
    "# what operators do work?\n",
    "    \n",
    "# indentation matters:\n",
    "\n",
    "if a == 5: print(\"don't do this, my friend. Oneliners suck. They are here only to impress newbies\")\n",
    "\n",
    "print(\"C anyone?\"); print(\"Another ugly oneliner\")\n",
    "\n",
    "if a == 5:\n",
    "    print(\"just keep everything tidy\")\n",
    "    \n",
    "# LISTEN TO PEP8, BOYS\n",
    "# https://www.python.org/dev/peps/pep-0008/?"
   ]
  },
  {
   "cell_type": "markdown",
   "metadata": {},
   "source": [
    "## 2. Semantika\n",
    "\n",
    "Dinamički tipizirani jezik podrazumjeva tip podataka varijable prema njezinim vrijednostima\n",
    "\n",
    "### Varijable - ugrađeni tipovi:"
   ]
  },
  {
   "cell_type": "code",
   "execution_count": 3,
   "metadata": {},
   "outputs": [
    {
     "ename": "SyntaxError",
     "evalue": "invalid syntax (<ipython-input-3-ccc7acec22f7>, line 1)",
     "output_type": "error",
     "traceback": [
      "\u001b[0;36m  File \u001b[0;32m\"<ipython-input-3-ccc7acec22f7>\"\u001b[0;36m, line \u001b[0;32m1\u001b[0m\n\u001b[0;31m    int a = 5 # nope\u001b[0m\n\u001b[0m        ^\u001b[0m\n\u001b[0;31mSyntaxError\u001b[0m\u001b[0;31m:\u001b[0m invalid syntax\n"
     ]
    }
   ],
   "source": [
    "int a = 5 # nope"
   ]
  },
  {
   "cell_type": "code",
   "execution_count": 4,
   "metadata": {},
   "outputs": [],
   "source": [
    "a = int() # ok. But why?"
   ]
  },
  {
   "cell_type": "code",
   "execution_count": 5,
   "metadata": {},
   "outputs": [],
   "source": [
    "a = 5 # this is a way to go"
   ]
  },
  {
   "cell_type": "code",
   "execution_count": 7,
   "metadata": {},
   "outputs": [],
   "source": [
    "s = str(\"bye bye\")"
   ]
  },
  {
   "cell_type": "code",
   "execution_count": 8,
   "metadata": {},
   "outputs": [],
   "source": [
    "s = \"even better\""
   ]
  },
  {
   "cell_type": "code",
   "execution_count": 9,
   "metadata": {},
   "outputs": [],
   "source": [
    "b = 3.1415926 # works out of the box."
   ]
  },
  {
   "cell_type": "code",
   "execution_count": 12,
   "metadata": {},
   "outputs": [
    {
     "data": {
      "text/plain": [
       "int"
      ]
     },
     "execution_count": 12,
     "metadata": {},
     "output_type": "execute_result"
    }
   ],
   "source": [
    "type(a)"
   ]
  },
  {
   "cell_type": "code",
   "execution_count": 13,
   "metadata": {},
   "outputs": [
    {
     "ename": "SyntaxError",
     "evalue": "invalid syntax (<ipython-input-13-e9c810050fb1>, line 1)",
     "output_type": "error",
     "traceback": [
      "\u001b[0;36m  File \u001b[0;32m\"<ipython-input-13-e9c810050fb1>\"\u001b[0;36m, line \u001b[0;32m1\u001b[0m\n\u001b[0;31m    class(b) # RRRRR, nope...\u001b[0m\n\u001b[0m         ^\u001b[0m\n\u001b[0;31mSyntaxError\u001b[0m\u001b[0;31m:\u001b[0m invalid syntax\n"
     ]
    }
   ],
   "source": [
    "class(b) # RRRRR, nope..."
   ]
  },
  {
   "cell_type": "code",
   "execution_count": 14,
   "metadata": {},
   "outputs": [],
   "source": [
    "# int, bool, float, None\n",
    "varC = None"
   ]
  },
  {
   "cell_type": "markdown",
   "metadata": {},
   "source": [
    "### integer, float"
   ]
  },
  {
   "cell_type": "code",
   "execution_count": 21,
   "metadata": {},
   "outputs": [
    {
     "name": "stdout",
     "output_type": "stream",
     "text": [
      "53\n"
     ]
    }
   ],
   "source": [
    "# chr, +, -, =, %, //, str, \n",
    "a = 48\n",
    "chr(a)\n",
    "\n",
    "a = a + 5\n",
    "a += 5\n",
    "a = a - 5\n",
    "\n",
    "print(a)"
   ]
  },
  {
   "cell_type": "markdown",
   "metadata": {},
   "source": [
    "## Kolekcije"
   ]
  },
  {
   "cell_type": "code",
   "execution_count": null,
   "metadata": {},
   "outputs": [],
   "source": [
    "# string - format, +, [], len, find, index, isalnum, \n",
    "# islower, isnumeric, isupper, upper, lower, ord"
   ]
  },
  {
   "cell_type": "code",
   "execution_count": null,
   "metadata": {},
   "outputs": [],
   "source": [
    "# list - len, [1], [1::], [1:], append, pop, extend, +"
   ]
  },
  {
   "cell_type": "code",
   "execution_count": null,
   "metadata": {},
   "outputs": [],
   "source": [
    "# tuple"
   ]
  },
  {
   "cell_type": "code",
   "execution_count": null,
   "metadata": {},
   "outputs": [],
   "source": [
    "# dict"
   ]
  },
  {
   "cell_type": "code",
   "execution_count": null,
   "metadata": {},
   "outputs": [],
   "source": [
    "# range"
   ]
  },
  {
   "cell_type": "code",
   "execution_count": null,
   "metadata": {},
   "outputs": [],
   "source": [
    "# set - add one, update iterable, discard one, remove iter\n",
    "# pop rand, | un, & inters, - diff, union -> in an new set"
   ]
  },
  {
   "cell_type": "code",
   "execution_count": null,
   "metadata": {},
   "outputs": [],
   "source": [
    "# unpack -- a, b = tuple"
   ]
  },
  {
   "cell_type": "markdown",
   "metadata": {},
   "source": [
    "## Ugrađene funkcije:\n"
   ]
  },
  {
   "cell_type": "code",
   "execution_count": null,
   "metadata": {},
   "outputs": [],
   "source": [
    "# print\n",
    "\n",
    "# apply\n",
    "\n",
    "# len\n",
    "\n",
    "# type\n",
    "\n",
    "# dict\n",
    "\n",
    "# dir\n",
    "\n",
    "# zip\n",
    "\n",
    "# enumerate\n",
    "\n",
    "# sum\n",
    "\n",
    "# help\n",
    "\n",
    "# chr\n",
    "\n",
    "# ord"
   ]
  },
  {
   "cell_type": "markdown",
   "metadata": {},
   "source": [
    "## Petlje"
   ]
  },
  {
   "cell_type": "code",
   "execution_count": 38,
   "metadata": {},
   "outputs": [
    {
     "name": "stdout",
     "output_type": "stream",
     "text": [
      "gotov\n"
     ]
    }
   ],
   "source": [
    "# for - string, range, -=, enumerate, zip, reverse itd\n",
    "\n",
    "# for i lokalan namespace\n",
    "\n",
    "for i in range(100):\n",
    "    i = i - 1\n",
    "print(\"gotov\")"
   ]
  },
  {
   "cell_type": "code",
   "execution_count": null,
   "metadata": {},
   "outputs": [],
   "source": [
    "# while: bool, int, None, condition\n",
    "uvijet = True\n",
    "\n",
    "while uvijet:\n",
    "    print(\"blabla\")"
   ]
  },
  {
   "cell_type": "markdown",
   "metadata": {},
   "source": [
    "## Korisničke funkcije"
   ]
  },
  {
   "cell_type": "code",
   "execution_count": 114,
   "metadata": {},
   "outputs": [],
   "source": [
    "# def, dir, void, return, yield, argumenti, named argumenti, \n",
    "# unpack, __next__,\n",
    "# nested\n",
    "# return ,\n",
    "\n",
    "# procedura\n",
    "def foo():\n",
    "    print(\"bar\")\n",
    "\n",
    "# bar() = foo()\n",
    "\n",
    "def foo2(a=0, b=0, c=0):\n",
    "    print(a, b, c)\n",
    "\n",
    "def foo3(a, b):\n",
    "    a += (2, 3)\n",
    "    b.append(7)\n",
    "\n",
    "a = (1, 2, 3)\n",
    "b = [1, 2, 3]\n",
    "# print(foo3(a, b))\n",
    "# print(a, b)\n",
    "\n",
    "# generatori\n",
    "spremnik = 0\n",
    "\n",
    "def neradeca_funkcija(n):\n",
    "    for i in range(n):\n",
    "        yield i\n",
    "\n",
    "a = neradeca_funkcija(10)"
   ]
  },
  {
   "cell_type": "code",
   "execution_count": 119,
   "metadata": {},
   "outputs": [
    {
     "data": {
      "text/plain": [
       "4"
      ]
     },
     "execution_count": 119,
     "metadata": {},
     "output_type": "execute_result"
    }
   ],
   "source": [
    "next(a)"
   ]
  },
  {
   "cell_type": "code",
   "execution_count": 136,
   "metadata": {},
   "outputs": [
    {
     "data": {
      "text/plain": [
       "10"
      ]
     },
     "execution_count": 136,
     "metadata": {},
     "output_type": "execute_result"
    }
   ],
   "source": [
    "for i in range(10):\n",
    "    i += 1\n",
    "\n",
    "z = 50\n",
    "    \n",
    "def jos_jedna():\n",
    "    global z\n",
    "    z += 1\n",
    "    print(z)\n",
    "    \n",
    "    \n",
    "    return z\n",
    "\n",
    "def jos_jos_jedna(n: int=10):\n",
    "    \n",
    "    def brojac():\n",
    "        return n\n",
    "        #return list(range(n))\n",
    "    \n",
    "    return brojac\n",
    "\n",
    "funkcija = jos_jos_jedna()\n",
    "funkcija()"
   ]
  },
  {
   "cell_type": "markdown",
   "metadata": {},
   "source": [
    "## Garbage Collection, Performance, Alternatives, Open Source\n",
    "\n",
    "Is Python GILtty of something?\n",
    "Cython, Jyton...\n",
    "Anaconda, miniconda\n",
    "WinPython\n"
   ]
  },
  {
   "cell_type": "markdown",
   "metadata": {},
   "source": [
    "## Globalne, lokalne varijable"
   ]
  },
  {
   "cell_type": "code",
   "execution_count": null,
   "metadata": {},
   "outputs": [],
   "source": [
    "# naredba global\n",
    "# for, if, def"
   ]
  },
  {
   "cell_type": "markdown",
   "metadata": {},
   "source": [
    "## Moduli"
   ]
  },
  {
   "cell_type": "code",
   "execution_count": 143,
   "metadata": {},
   "outputs": [
    {
     "name": "stdout",
     "output_type": "stream",
     "text": [
      "3.141592653589793\n"
     ]
    }
   ],
   "source": [
    "# import, *, some, dir, as --> mtk\n",
    "\n",
    "# math \n",
    "\n",
    "import math\n",
    "import math as mh\n",
    "from math import pi\n",
    "# from math import * PEP8 - ne raditi!\n",
    "\n",
    "mh.sin(90)\n",
    "print(pi)"
   ]
  },
  {
   "cell_type": "markdown",
   "metadata": {},
   "source": [
    "## Objekt, konstruktor, metoda"
   ]
  },
  {
   "cell_type": "code",
   "execution_count": 151,
   "metadata": {},
   "outputs": [
    {
     "name": "stdout",
     "output_type": "stream",
     "text": [
      "Dog named \"Minnie\" says \"woof woof\"\n"
     ]
    },
    {
     "data": {
      "text/plain": [
       "__main__.Dog"
      ]
     },
     "execution_count": 151,
     "metadata": {},
     "output_type": "execute_result"
    }
   ],
   "source": [
    "# wooof\n",
    "\n",
    "class Dog:\n",
    "    \n",
    "    def __init__(self, name=\"Generic dog\"):\n",
    "        self.name = name\n",
    "    \n",
    "    def woof(self):\n",
    "        print(\"Dog named \\\"{}\\\" says \\\"woof woof\\\"\".format(self.name))\n",
    "    \n",
    "    def walk(self):\n",
    "        print(\"this dog is walking!\")\n",
    "        \n",
    "pas = Dog(\"Minnie\")\n",
    "pas.woof()\n",
    "\n",
    "type(pas)"
   ]
  },
  {
   "cell_type": "code",
   "execution_count": 171,
   "metadata": {},
   "outputs": [
    {
     "name": "stdout",
     "output_type": "stream",
     "text": [
      "4\n"
     ]
    }
   ],
   "source": [
    "class Pravokutnik(object):\n",
    "    def __init__(self, side_a=1, side_b=1):\n",
    "        self.a = side_a\n",
    "        self.b = side_b\n",
    "    \n",
    "    def povrsina(self):\n",
    "        return self.a * self.b\n",
    "    \n",
    "    def opseg(self):\n",
    "        return 2 * self.a + 2 * self.b\n",
    "\n",
    "class Kvadrat(Pravokutnik):\n",
    "    def __init__(self, single_side=1):\n",
    "        super().__init__(single_side, single_side)\n",
    "        \n",
    "        # ili\n",
    "        \n",
    "        # Pravokutnik.__init__(self, single_side, single_side)\n",
    "        \n",
    "        # ili\n",
    "        \n",
    "        # self.side_a = single_side\n",
    "        # delf.side_b = single_side\n",
    "\n",
    "\n",
    "if __name__ == \"__main__\":\n",
    "    mp = Kvadrat(1)\n",
    "    print(mp.opseg())\n",
    "    dir(mp)"
   ]
  },
  {
   "cell_type": "code",
   "execution_count": 173,
   "metadata": {},
   "outputs": [
    {
     "data": {
      "text/plain": [
       "20"
      ]
     },
     "execution_count": 173,
     "metadata": {},
     "output_type": "execute_result"
    }
   ],
   "source": [
    "import mojModul\n",
    "import mojModul as ml\n",
    "\n",
    "moj_kvadrat = mojModul.Kvadrat(5)\n",
    "moj_kvadrat.opseg()"
   ]
  },
  {
   "cell_type": "markdown",
   "metadata": {},
   "source": [
    "## Datoteke, Streamovi i With statement"
   ]
  },
  {
   "cell_type": "code",
   "execution_count": 174,
   "metadata": {},
   "outputs": [],
   "source": [
    "# open\n",
    "# with\n",
    "# close\n",
    "# read\n",
    "\n",
    "out = open(\"datotekaZaPisanje.txt\", \"w\")\n",
    "\n",
    "out.write(\"neki tekst\")\n",
    "\n",
    "out.close()\n",
    "# wb, rb, r, a, w\n",
    "# write\n",
    "# close"
   ]
  },
  {
   "cell_type": "code",
   "execution_count": 175,
   "metadata": {},
   "outputs": [],
   "source": [
    "# out.write(\"hi\")\n",
    "\n",
    "with open(\"novaDatoteka.txt\", \"w\") as file_stream:\n",
    "    file_stream.write(\"zdravo\")\n",
    "\n"
   ]
  },
  {
   "cell_type": "code",
   "execution_count": null,
   "metadata": {},
   "outputs": [],
   "source": [
    "# out.close()"
   ]
  },
  {
   "cell_type": "code",
   "execution_count": null,
   "metadata": {},
   "outputs": [],
   "source": [
    "with open(\"blabla\", \"w\") as datoteka:\n",
    "    datoteka.write(\"jeah\")"
   ]
  },
  {
   "cell_type": "markdown",
   "metadata": {},
   "source": [
    "## Tips & Tricks"
   ]
  },
  {
   "cell_type": "code",
   "execution_count": 183,
   "metadata": {},
   "outputs": [
    {
     "data": {
      "text/plain": [
       "['Error',\n",
       " '__all__',\n",
       " '__builtins__',\n",
       " '__cached__',\n",
       " '__doc__',\n",
       " '__file__',\n",
       " '__loader__',\n",
       " '__name__',\n",
       " '__package__',\n",
       " '__spec__',\n",
       " '_copy_dispatch',\n",
       " '_copy_immutable',\n",
       " '_deepcopy_atomic',\n",
       " '_deepcopy_dict',\n",
       " '_deepcopy_dispatch',\n",
       " '_deepcopy_list',\n",
       " '_deepcopy_method',\n",
       " '_deepcopy_tuple',\n",
       " '_keep_alive',\n",
       " '_reconstruct',\n",
       " 'copy',\n",
       " 'deepcopy',\n",
       " 'dispatch_table',\n",
       " 'error']"
      ]
     },
     "execution_count": 183,
     "metadata": {},
     "output_type": "execute_result"
    }
   ],
   "source": [
    "# palindrom, generator, [], {}, lambda, \n",
    "# kopiranje funkcija, kopiranje objekata\n",
    "\n",
    "a = lambda x: x**2\n",
    "\n",
    "a(2)\n",
    "\n",
    "moja_lista = [i**2 for i in range(10)]\n",
    "moja_lista\n",
    "\n",
    "moja_lista2 = list(moja_lista)\n",
    "\n",
    "import copy\n",
    "\n",
    "dir(copy)\n"
   ]
  },
  {
   "cell_type": "markdown",
   "metadata": {},
   "source": [
    "## Pickle"
   ]
  },
  {
   "cell_type": "code",
   "execution_count": 179,
   "metadata": {},
   "outputs": [
    {
     "name": "stdout",
     "output_type": "stream",
     "text": [
      "{'blabla': 16}\n"
     ]
    }
   ],
   "source": [
    "import pickle\n",
    "\n",
    "d = dict()\n",
    "d[\"blabla\"] = 16\n",
    "\n",
    "with open(\"moj_rijecnik.p\", \"wb\") as stream:\n",
    "    pickle.dump(d, stream)\n",
    "\n",
    "with open(\"moj_rijecnik.p\", \"rb\") as stream:\n",
    "    d_ucitani = pickle.load(stream)\n",
    "    \n",
    "print(d_ucitani)"
   ]
  },
  {
   "cell_type": "markdown",
   "metadata": {},
   "source": [
    "## Copy vs. DeepCopy"
   ]
  },
  {
   "cell_type": "code",
   "execution_count": 195,
   "metadata": {},
   "outputs": [
    {
     "name": "stdout",
     "output_type": "stream",
     "text": [
      "['HA', 'HAHA', [1, 2, 3, [1, 2, 3, '7389426592348623984652398465239846', 5, 6], [[6, 5, 4, 3, 2, 1]]]]\n",
      "['HA', 'HAHA', [1, 2, 3, [1, 2, 3, '7389426592348623984652398465239846', 5, 6], [[6, 5, 4, 3, 2, 1]]]]\n",
      "[1, 2, [1, 2, 3, [1, 2, 3, '7389426592348623984652398465239846', 5, 6], [[6, 5, 4, 3, 2, 1]]]]\n",
      "[1, 2, [1, 2, 3, [1, 2, 3, 4, 5, 6], [[6, 5, 4, 3, 2, 1]]]]\n"
     ]
    }
   ],
   "source": [
    "a = [1, 2, 3, 4, 5, 6]\n",
    "b = [6, 5, 4, 3, 2, 1]\n",
    "\n",
    "c = [1, 2, [1, 2, 3, a, [b]]]\n",
    "d = c\n",
    "e = copy.copy(c)\n",
    "f = copy.deepcopy(c)\n",
    "\n",
    "c[0] = \"HA\"\n",
    "c[1] = \"HAHA\"\n",
    "c[2][3][3] = \"7389426592348623984652398465239846\"\n",
    "\n",
    "\n",
    "print(c) # original\n",
    "print(d) # 'copied' with \"=\" statement\n",
    "print(e) # copied with copy.copy statement\n",
    "print(f) # copied with copy.deepcopy (aka. True Copy) statement"
   ]
  },
  {
   "cell_type": "code",
   "execution_count": null,
   "metadata": {},
   "outputs": [],
   "source": []
  }
 ],
 "metadata": {
  "kernelspec": {
   "display_name": "Python 3",
   "language": "python",
   "name": "python3"
  },
  "language_info": {
   "codemirror_mode": {
    "name": "ipython",
    "version": 3
   },
   "file_extension": ".py",
   "mimetype": "text/x-python",
   "name": "python",
   "nbconvert_exporter": "python",
   "pygments_lexer": "ipython3",
   "version": "3.6.5"
  }
 },
 "nbformat": 4,
 "nbformat_minor": 2
}
